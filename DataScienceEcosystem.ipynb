{
 "cells": [
  {
   "cell_type": "markdown",
   "id": "b0158c2b-8e78-455a-9f81-18a2bbc6938e",
   "metadata": {},
   "source": [
    "# DataScienceEcosystem.ipynb"
   ]
  },
  {
   "cell_type": "markdown",
   "id": "e4801fb0-f49c-43cf-b72b-dffa14f861c2",
   "metadata": {},
   "source": [
    "Data Science Tools and Ecosystem"
   ]
  },
  {
   "cell_type": "markdown",
   "id": "bc99a743-67d6-4fb0-ae0a-9e2070cbce23",
   "metadata": {},
   "source": [
    "In this notebook, Data Science Tools and Ecosystem are summarized."
   ]
  },
  {
   "cell_type": "markdown",
   "id": "04a441df-94c6-468b-a4ca-c5c8f4546a62",
   "metadata": {},
   "source": [
    "# Objecives:\n",
    "- Creating a GitHub account\n",
    "- Merging child branch to the main branch\n",
    "- Introduction to R"
   ]
  },
  {
   "cell_type": "markdown",
   "id": "51b11d2c-cd51-467b-bcf0-569d20c9e19d",
   "metadata": {},
   "source": [
    "Some of the popular languages that Data Scientists use are:"
   ]
  },
  {
   "cell_type": "markdown",
   "id": "46e5f047-b53c-457d-890b-4437ff4a6cce",
   "metadata": {},
   "source": [
    "1.PYTHON\n",
    "2.R\n",
    "3.SQL"
   ]
  },
  {
   "cell_type": "markdown",
   "id": "e3eebad6-b12a-41c8-8233-872c1f8f5db6",
   "metadata": {},
   "source": [
    "Some of the commonly used libraries used by Data Scientists include:"
   ]
  },
  {
   "cell_type": "markdown",
   "id": "1566e399-4c73-4257-9ada-9edbd1082d72",
   "metadata": {},
   "source": [
    "1.PANDAS\n",
    "2.METPLOTLIB\n",
    "3.NUMPY"
   ]
  },
  {
   "cell_type": "markdown",
   "id": "a47500a7-7c93-4236-bd62-0273ed99a9b8",
   "metadata": {},
   "source": [
    "|Data Science Tools|\n",
    "|----|\n",
    "|Python|\n",
    "|Jupyter Notebook|\n",
    "|TensorFlow|"
   ]
  },
  {
   "cell_type": "markdown",
   "id": "a63d331a-5047-43c2-9e81-277bc90ce370",
   "metadata": {},
   "source": [
    "### Below are a few examples of evaluating arithmetic expressions in Python"
   ]
  },
  {
   "cell_type": "markdown",
   "id": "7ba62faa-7442-493c-9190-8608d7a1964d",
   "metadata": {},
   "source": [
    "This a simple arithmetic expression to mutiply then add integers."
   ]
  },
  {
   "cell_type": "code",
   "execution_count": 4,
   "id": "ad748fb5-a43e-45b6-8450-5ea6bfc553c2",
   "metadata": {},
   "outputs": [
    {
     "data": {
      "text/plain": [
       "17"
      ]
     },
     "execution_count": 4,
     "metadata": {},
     "output_type": "execute_result"
    }
   ],
   "source": [
    "(3*4)+5"
   ]
  },
  {
   "cell_type": "code",
   "execution_count": 5,
   "id": "babeb775-bd55-4d5b-a9b5-61215f2db888",
   "metadata": {},
   "outputs": [],
   "source": [
    "#This will convert 200 minutes to hours by diving by 60"
   ]
  },
  {
   "cell_type": "code",
   "execution_count": 10,
   "id": "f07b258f-63ab-431e-9a81-b43398bf613e",
   "metadata": {},
   "outputs": [
    {
     "data": {
      "text/plain": [
       "3"
      ]
     },
     "execution_count": 10,
     "metadata": {},
     "output_type": "execute_result"
    }
   ],
   "source": [
    "minutes = 200\n",
    "hours = minutes//60\n",
    "hours "
   ]
  },
  {
   "cell_type": "markdown",
   "id": "6f2fda04-6687-48c4-a25a-cefb331f5b5c",
   "metadata": {},
   "source": [
    "##Author"
   ]
  },
  {
   "cell_type": "code",
   "execution_count": null,
   "id": "116313de-76b7-41f6-8657-9cd48c042a13",
   "metadata": {},
   "outputs": [],
   "source": []
  },
  {
   "cell_type": "code",
   "execution_count": null,
   "id": "9cf0e91c-1da6-4bd3-aefe-f57da58c71c8",
   "metadata": {},
   "outputs": [],
   "source": []
  }
 ],
 "metadata": {
  "kernelspec": {
   "display_name": "Python 3 (ipykernel)",
   "language": "python",
   "name": "python3"
  },
  "language_info": {
   "codemirror_mode": {
    "name": "ipython",
    "version": 3
   },
   "file_extension": ".py",
   "mimetype": "text/x-python",
   "name": "python",
   "nbconvert_exporter": "python",
   "pygments_lexer": "ipython3",
   "version": "3.11.7"
  }
 },
 "nbformat": 4,
 "nbformat_minor": 5
}
